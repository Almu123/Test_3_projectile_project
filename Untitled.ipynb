{
 "cells": [
  {
   "cell_type": "code",
   "execution_count": 1,
   "id": "6452ec94",
   "metadata": {},
   "outputs": [
    {
     "ename": "ModuleNotFoundError",
     "evalue": "No module named 'projectile_package.projectile'",
     "output_type": "error",
     "traceback": [
      "\u001b[1;31m---------------------------------------------------------------------------\u001b[0m",
      "\u001b[1;31mModuleNotFoundError\u001b[0m                       Traceback (most recent call last)",
      "Cell \u001b[1;32mIn[1], line 1\u001b[0m\n\u001b[1;32m----> 1\u001b[0m \u001b[38;5;28;01mfrom\u001b[39;00m \u001b[38;5;21;01mprojectile_package\u001b[39;00m\u001b[38;5;21;01m.\u001b[39;00m\u001b[38;5;21;01mprojectile\u001b[39;00m \u001b[38;5;28;01mimport\u001b[39;00m flying_mass\n\u001b[0;32m      2\u001b[0m \u001b[38;5;28;01mfrom\u001b[39;00m \u001b[38;5;21;01mprojectile_package\u001b[39;00m\u001b[38;5;21;01m.\u001b[39;00m\u001b[38;5;21;01mprojectile_plot\u001b[39;00m \u001b[38;5;28;01mimport\u001b[39;00m plot_xy\n",
      "\u001b[1;31mModuleNotFoundError\u001b[0m: No module named 'projectile_package.projectile'"
     ]
    }
   ],
   "source": [
    "from projectile_package.projectile import flying_mass\n",
    "from projectile_package.projectile_plot import plot_xy"
   ]
  },
  {
   "cell_type": "code",
   "execution_count": 2,
   "id": "639af6ec",
   "metadata": {},
   "outputs": [
    {
     "ename": "NameError",
     "evalue": "name 'flying_mass' is not defined",
     "output_type": "error",
     "traceback": [
      "\u001b[1;31m---------------------------------------------------------------------------\u001b[0m",
      "\u001b[1;31mNameError\u001b[0m                                 Traceback (most recent call last)",
      "Cell \u001b[1;32mIn[2], line 1\u001b[0m\n\u001b[1;32m----> 1\u001b[0m t, x, y, vx, vy \u001b[38;5;241m=\u001b[39m flying_mass(\u001b[38;5;241m10.\u001b[39m, \u001b[38;5;241m10.\u001b[39m, mass\u001b[38;5;241m=\u001b[39m\u001b[38;5;241m1.\u001b[39m, k\u001b[38;5;241m=\u001b[39m\u001b[38;5;241m0.035\u001b[39m)\n",
      "\u001b[1;31mNameError\u001b[0m: name 'flying_mass' is not defined"
     ]
    }
   ],
   "source": [
    "t, x, y, vx, vy = flying_mass(10., 10., mass=1., k=0.035)"
   ]
  },
  {
   "cell_type": "code",
   "execution_count": 3,
   "id": "2f11b2f9",
   "metadata": {},
   "outputs": [
    {
     "ename": "NameError",
     "evalue": "name 'plot_xy' is not defined",
     "output_type": "error",
     "traceback": [
      "\u001b[1;31m---------------------------------------------------------------------------\u001b[0m",
      "\u001b[1;31mNameError\u001b[0m                                 Traceback (most recent call last)",
      "Cell \u001b[1;32mIn[3], line 1\u001b[0m\n\u001b[1;32m----> 1\u001b[0m plot_xy(x, y)\n",
      "\u001b[1;31mNameError\u001b[0m: name 'plot_xy' is not defined"
     ]
    }
   ],
   "source": [
    "plot_xy(x, y)"
   ]
  },
  {
   "cell_type": "code",
   "execution_count": null,
   "id": "432b98da",
   "metadata": {},
   "outputs": [],
   "source": []
  }
 ],
 "metadata": {
  "kernelspec": {
   "display_name": "Python 3 (ipykernel)",
   "language": "python",
   "name": "python3"
  },
  "language_info": {
   "codemirror_mode": {
    "name": "ipython",
    "version": 3
   },
   "file_extension": ".py",
   "mimetype": "text/x-python",
   "name": "python",
   "nbconvert_exporter": "python",
   "pygments_lexer": "ipython3",
   "version": "3.11.4"
  }
 },
 "nbformat": 4,
 "nbformat_minor": 5
}
