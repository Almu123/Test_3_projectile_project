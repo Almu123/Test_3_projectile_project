{
 "cells": [
  {
   "cell_type": "code",
   "execution_count": 1,
   "id": "bfdd273b",
   "metadata": {},
   "outputs": [
    {
     "ename": "NameError",
     "evalue": "name 'falling_mass' is not defined",
     "output_type": "error",
     "traceback": [
      "\u001b[1;31m---------------------------------------------------------------------------\u001b[0m",
      "\u001b[1;31mNameError\u001b[0m                                 Traceback (most recent call last)",
      "Cell \u001b[1;32mIn[1], line 1\u001b[0m\n\u001b[1;32m----> 1\u001b[0m t, y, vy \u001b[38;5;241m=\u001b[39m falling_mass(\u001b[38;5;241m20\u001b[39m, k\u001b[38;5;241m=\u001b[39m\u001b[38;5;241m0.035\u001b[39m)\n",
      "\u001b[1;31mNameError\u001b[0m: name 'falling_mass' is not defined"
     ]
    }
   ],
   "source": [
    "t, y, vy = falling_mass(20, k=0.035)"
   ]
  },
  {
   "cell_type": "code",
   "execution_count": 2,
   "id": "17f3f0c4",
   "metadata": {},
   "outputs": [
    {
     "ename": "NameError",
     "evalue": "name 'plt' is not defined",
     "output_type": "error",
     "traceback": [
      "\u001b[1;31m---------------------------------------------------------------------------\u001b[0m",
      "\u001b[1;31mNameError\u001b[0m                                 Traceback (most recent call last)",
      "Cell \u001b[1;32mIn[2], line 1\u001b[0m\n\u001b[1;32m----> 1\u001b[0m fig, (ax1, ax2) \u001b[38;5;241m=\u001b[39m plt\u001b[38;5;241m.\u001b[39msubplots(\u001b[38;5;241m2\u001b[39m, \u001b[38;5;241m1\u001b[39m, sharex\u001b[38;5;241m=\u001b[39m\u001b[38;5;28;01mTrue\u001b[39;00m)\n\u001b[0;32m      3\u001b[0m ax1\u001b[38;5;241m.\u001b[39mplot(t, y)\n\u001b[0;32m      4\u001b[0m ax1\u001b[38;5;241m.\u001b[39mset_ylabel(\u001b[38;5;124m\"\u001b[39m\u001b[38;5;124my (m)\u001b[39m\u001b[38;5;124m\"\u001b[39m)\n",
      "\u001b[1;31mNameError\u001b[0m: name 'plt' is not defined"
     ]
    }
   ],
   "source": [
    "fig, (ax1, ax2) = plt.subplots(2, 1, sharex=True)\n",
    "\n",
    "ax1.plot(t, y)\n",
    "ax1.set_ylabel(\"y (m)\")\n",
    "\n",
    "ax2.plot(t, vy)\n",
    "ax2.set_ylabel(\"Velocity (m/s)\")\n",
    "ax2.set_xlabel(\"t (s)\")\n",
    "\n",
    "plt.show()"
   ]
  },
  {
   "cell_type": "code",
   "execution_count": null,
   "id": "63fa5080",
   "metadata": {},
   "outputs": [],
   "source": []
  }
 ],
 "metadata": {
  "kernelspec": {
   "display_name": "Python 3 (ipykernel)",
   "language": "python",
   "name": "python3"
  },
  "language_info": {
   "codemirror_mode": {
    "name": "ipython",
    "version": 3
   },
   "file_extension": ".py",
   "mimetype": "text/x-python",
   "name": "python",
   "nbconvert_exporter": "python",
   "pygments_lexer": "ipython3",
   "version": "3.11.4"
  }
 },
 "nbformat": 4,
 "nbformat_minor": 5
}
